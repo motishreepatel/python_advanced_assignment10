{
 "cells": [
  {
   "cell_type": "code",
   "execution_count": null,
   "metadata": {},
   "outputs": [],
   "source": [
    "#Q1. What is the difference between __getattr__ and __getattribute__?\n",
    "#Answer:\n",
    "The main difference between __getattr__ and __getattribute__ in Python is their behavior when accessing attributes of an object.\n",
    "\n",
    "1. __getattr__(self, name): This method is invoked when the requested attribute is not found through the usual lookup process. It is a \n",
    "fallback method that gets called only if the attribute is not present. The name parameter is the name of the attribute being accessed. \n",
    "If __getattr__ is defined for an object, it is called whenever an attribute is accessed, regardless of whether it exists or not.\n",
    "\n",
    "2. __getattribute__(self, name): This method is called for every attribute access on an object, regardless of whether the attribute exists or not.\n",
    " It is invoked before checking if the attribute exists in the object's dictionary or its class. This method is used to implement custom behavior \n",
    " for attribute access, and it can be overridden to customize the attribute access process. However, caution must be exercised while \n",
    " implementing __getattribute__ since it can lead to infinite recursion if not used properly."
   ]
  },
  {
   "cell_type": "code",
   "execution_count": null,
   "metadata": {},
   "outputs": [],
   "source": [
    "#Q2. What is the difference between properties and descriptors?\n",
    "#Answer:\n",
    "Properties and descriptors are both mechanisms in Python that allow you to define custom behavior for attribute access. However, there are some differences between them:\n",
    "\n",
    "1. Implementation: Properties are implemented at the class level using decorators or the property() function, while descriptors are implemented as separate classes with special methods.\n",
    "\n",
    "2. Scope: Properties are specific to individual attributes of a class. They are defined on a per-attribute basis and allow you to define custom getter, setter, and deleter methods for that attribute. Descriptors, on the other hand, are more general and can be used to define custom behavior for multiple attributes of a class or even across multiple classes.\n",
    "\n",
    "3. Access Control: Properties are primarily used to control access to attributes. They provide a way to define read-only or write-only attributes and can perform additional checks or transformations when getting or setting the attribute value. Descriptors, on the other hand, can control both attribute access and assignment. They can define custom behavior for both getting and setting attribute values.\n",
    "\n",
    "4. Attribute Storage: Properties are typically used when you want to provide additional functionality or validation for existing attributes stored directly on the instance. Descriptors, however, can implement their own storage mechanism. They can store the attribute value in a separate descriptor instance, allowing for more complex attribute handling.\n",
    "\n",
    "5. Descriptor Protocol: Descriptors follow a specific protocol defined by special methods such as __get__, __set__, and __delete__. These methods define the behavior of the descriptor when it is accessed or assigned. Properties, on the other hand, are a high-level concept that internally use descriptors to achieve their functionality. Properties can be seen as a convenient way of using descriptors without explicitly defining a separate descriptor class."
   ]
  },
  {
   "cell_type": "code",
   "execution_count": null,
   "metadata": {},
   "outputs": [],
   "source": [
    "#Q3 - What are the key differences in functionality between __getattr__ and __getattribute__, as well as properties and descriptors?\n",
    "#Answer:\n",
    "Let's find out the key differences in functionality between __getattr__, __getattribute__, properties, and descriptors:\n",
    "\n",
    "1. Invocation and Attribute Presence:\n",
    "\n",
    "- __getattr__(self, name) is invoked when an attribute is not found through the regular attribute lookup process. It is only called if the attribute is not present in the instance or its class.\n",
    "- __getattribute__(self, name) is called for every attribute access, regardless of whether the attribute exists or not. It is invoked before checking the instance or class dictionary.\n",
    "\n",
    "2. Control over Attribute Access:\n",
    "\n",
    "- __getattr__ allows you to define custom behavior when an attribute is accessed but not found. It can be used for attribute resolution and dynamic attribute generation.\n",
    "- __getattribute__ allows you to define custom behavior for all attribute access, both existing and non-existing attributes. It provides fine-grained control over attribute access but requires careful implementation to avoid infinite recursion.\n",
    "\n",
    "3. Attribute Access Scope:\n",
    "\n",
    "- Both __getattr__ and __getattribute__ are defined at the instance level. They affect attribute access for a specific instance of a class.\n",
    "- Properties are defined at the class level and provide custom behavior for individual attributes. They allow you to control access to specific attributes of an instance.\n",
    "\n",
    "\n",
    "4. Attribute Handling:\n",
    "\n",
    "- __getattr__ and __getattribute__ are typically used to modify attribute access behavior or provide additional attributes dynamically.\n",
    "- Properties are primarily used to control access to attributes, allowing you to define custom getter, setter, and deleter methods for specific attributes.\n",
    "Descriptors, which can be used alongside properties, offer a more general mechanism for defining custom behavior for attributes. They can be used to modify attribute access and assignment for multiple attributes or across multiple classes.\n",
    "\n",
    "5. Syntax and Usage:\n",
    "\n",
    "- __getattr__ and __getattribute__ are special methods that are automatically invoked by the attribute access process.\n",
    "- Properties use a decorator or the property() function to define custom access methods, such as getters, setters, and deleters, for individual attributes.\n",
    "- Descriptors are separate classes that implement the descriptor protocol with __get__, __set__, and __delete__ methods to define custom behavior for attribute access."
   ]
  }
 ],
 "metadata": {
  "language_info": {
   "name": "python"
  },
  "orig_nbformat": 4
 },
 "nbformat": 4,
 "nbformat_minor": 2
}
